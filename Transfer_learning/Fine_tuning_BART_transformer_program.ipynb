{
  "nbformat": 4,
  "nbformat_minor": 0,
  "metadata": {
    "colab": {
      "provenance": [],
      "collapsed_sections": [
        "wsri_x4sGNus",
        "xlap5KYr92-u",
        "Ir0k2aMsyxzj",
        "Sr9laII4y14U",
        "rx97cCOCzG0_",
        "IE2vYuPkFXd-",
        "h-H86LYwFwH1",
        "wjI_p5OrVwpJ",
        "o667AxAEWXiz",
        "02YUHl1mX7y4",
        "rrNEdE0RhjvH"
      ]
    },
    "kernelspec": {
      "name": "python3",
      "display_name": "Python 3"
    },
    "language_info": {
      "name": "python"
    },
    "gpuClass": "standard"
  },
  "cells": [
    {
      "cell_type": "markdown",
      "source": [
        "# GPU check and setup"
      ],
      "metadata": {
        "id": "wsri_x4sGNus"
      }
    },
    {
      "cell_type": "code",
      "source": [
        "! nvidia-smi"
      ],
      "metadata": {
        "colab": {
          "base_uri": "https://localhost:8080/"
        },
        "id": "YjJmaikiJcrf",
        "outputId": "db1edf09-ebf5-4b18-d96c-b1597314ede0"
      },
      "execution_count": null,
      "outputs": [
        {
          "output_type": "stream",
          "name": "stdout",
          "text": [
            "Thu Aug 18 12:08:07 2022       \n",
            "+-----------------------------------------------------------------------------+\n",
            "| NVIDIA-SMI 460.32.03    Driver Version: 460.32.03    CUDA Version: 11.2     |\n",
            "|-------------------------------+----------------------+----------------------+\n",
            "| GPU  Name        Persistence-M| Bus-Id        Disp.A | Volatile Uncorr. ECC |\n",
            "| Fan  Temp  Perf  Pwr:Usage/Cap|         Memory-Usage | GPU-Util  Compute M. |\n",
            "|                               |                      |               MIG M. |\n",
            "|===============================+======================+======================|\n",
            "|   0  Tesla T4            Off  | 00000000:00:04.0 Off |                    0 |\n",
            "| N/A   55C    P8    10W /  70W |      0MiB / 15109MiB |      0%      Default |\n",
            "|                               |                      |                  N/A |\n",
            "+-------------------------------+----------------------+----------------------+\n",
            "                                                                               \n",
            "+-----------------------------------------------------------------------------+\n",
            "| Processes:                                                                  |\n",
            "|  GPU   GI   CI        PID   Type   Process name                  GPU Memory |\n",
            "|        ID   ID                                                   Usage      |\n",
            "|=============================================================================|\n",
            "|  No running processes found                                                 |\n",
            "+-----------------------------------------------------------------------------+\n"
          ]
        }
      ]
    },
    {
      "cell_type": "code",
      "source": [
        "import torch\n",
        "torch.cuda.is_available()"
      ],
      "metadata": {
        "colab": {
          "base_uri": "https://localhost:8080/"
        },
        "id": "ANZtDMpe_iLt",
        "outputId": "58318b28-84de-49f8-adfd-831263d6f82a"
      },
      "execution_count": null,
      "outputs": [
        {
          "output_type": "execute_result",
          "data": {
            "text/plain": [
              "True"
            ]
          },
          "metadata": {},
          "execution_count": 2
        }
      ]
    },
    {
      "cell_type": "code",
      "source": [
        "torch.cuda.set_device(0)\n",
        "print(f\"Using GPU #{torch.cuda.current_device()}: {torch.cuda.get_device_name()}\")"
      ],
      "metadata": {
        "colab": {
          "base_uri": "https://localhost:8080/"
        },
        "id": "I53jZXLavmjj",
        "outputId": "337d8d63-a24d-4a89-95cf-65e6cd8d6485"
      },
      "execution_count": null,
      "outputs": [
        {
          "output_type": "stream",
          "name": "stdout",
          "text": [
            "Using GPU #0: Tesla T4\n"
          ]
        }
      ]
    },
    {
      "cell_type": "markdown",
      "source": [
        "#Pips and imports\n",
        "\n"
      ],
      "metadata": {
        "id": "xlap5KYr92-u"
      }
    },
    {
      "cell_type": "code",
      "source": [
        "!pip install --quiet transformers\n",
        "!pip install --quiet bert-score \n",
        "!pip install --quiet sacremoses\n",
        "!pip install --quiet ohmeow-blurr \n",
        "!pip install  --quiet textwrap3 "
      ],
      "metadata": {
        "id": "Xqv52FehuWvd"
      },
      "execution_count": null,
      "outputs": []
    },
    {
      "cell_type": "code",
      "source": [
        "import  torch\n",
        "from fastai.callback.all import *\n",
        "from fastai.data.block import DataBlock, ColReader, ItemGetter, ColSplitter, RandomSplitter,TrainTestSplitter\n",
        "from fastai.data.core import DataLoaders\n",
        "from fastai.imports import *\n",
        "from fastai.learner import *\n",
        "from fastai.torch_core import *\n",
        "from fastai.torch_imports import *\n",
        "from fastcore.all import *\n",
        "from blurr.text.data.seq2seq.core import Seq2SeqBatchTokenizeTransform, Seq2SeqTextBlock, default_text_gen_kwargs\n",
        "from blurr.text.modeling.core import BaseModelCallback, BaseModelWrapper, Blearner\n",
        "from blurr.text.modeling.seq2seq.core import Seq2SeqMetricsCallback, blurr_seq2seq_splitter\n",
        "from blurr.text.utils import get_hf_objects\n",
        "from blurr.utils import PreCalculatedCrossEntropyLoss\n",
        "from fastai.losses import CrossEntropyLossFlat\n",
        "from fastai.optimizer import Adam, ranger, OptimWrapper, params\n",
        "from fastcore.test import *\n",
        "from textwrap3 import wrap\n",
        "from transformers import BartForConditionalGeneration\n",
        "from blurr.utils import print_versions\n",
        "\n",
        "import nltk\n",
        "nltk.download('punkt')"
      ],
      "metadata": {
        "colab": {
          "base_uri": "https://localhost:8080/"
        },
        "id": "FrUd2cTBuAM3",
        "outputId": "5bdca3a1-ab64-4205-f116-8b22c32f91ef"
      },
      "execution_count": null,
      "outputs": [
        {
          "output_type": "stream",
          "name": "stderr",
          "text": [
            "[nltk_data] Downloading package punkt to /root/nltk_data...\n",
            "[nltk_data]   Package punkt is already up-to-date!\n"
          ]
        },
        {
          "output_type": "execute_result",
          "data": {
            "text/plain": [
              "True"
            ]
          },
          "metadata": {},
          "execution_count": 5
        }
      ]
    },
    {
      "cell_type": "code",
      "source": [
        "print_versions(\"torch fastai transformers\")"
      ],
      "metadata": {
        "colab": {
          "base_uri": "https://localhost:8080/"
        },
        "id": "vBqFfRa-uDEs",
        "outputId": "1ef121e8-607d-4771-8c11-3d72ee7f1c73"
      },
      "execution_count": null,
      "outputs": [
        {
          "output_type": "stream",
          "name": "stdout",
          "text": [
            "torch: 1.12.1+cu113\n",
            "fastai: 2.7.9\n",
            "transformers: 4.21.1\n"
          ]
        }
      ]
    },
    {
      "cell_type": "markdown",
      "source": [
        "#Mounting"
      ],
      "metadata": {
        "id": "Ir0k2aMsyxzj"
      }
    },
    {
      "cell_type": "code",
      "source": [
        "from google.colab import drive\n",
        "drive.mount('/content/drive')\n",
        "path=r\"/content/drive/MyDrive/Colab_Notebooks/datasets/smscorpus/val.json\""
      ],
      "metadata": {
        "colab": {
          "base_uri": "https://localhost:8080/"
        },
        "id": "25bXZd4bv6LI",
        "outputId": "8fdc9435-c265-433e-9ff8-097bd23f7683"
      },
      "execution_count": null,
      "outputs": [
        {
          "output_type": "stream",
          "name": "stdout",
          "text": [
            "Drive already mounted at /content/drive; to attempt to forcibly remount, call drive.mount(\"/content/drive\", force_remount=True).\n"
          ]
        }
      ]
    },
    {
      "cell_type": "markdown",
      "source": [
        "#Read data"
      ],
      "metadata": {
        "id": "Sr9laII4y14U"
      }
    },
    {
      "cell_type": "code",
      "source": [
        "with open(path) as jfile:\n",
        "  data = json.load(jfile)"
      ],
      "metadata": {
        "id": "URxj9-2kaxFt"
      },
      "execution_count": null,
      "outputs": []
    },
    {
      "cell_type": "code",
      "source": [
        "my_dict = {\"id\":[],\"dialogue\":[],\"summary\":[]}\n",
        "for entry in data[:20]:\n",
        "  my_dict[\"id\"].append(entry['id'])\n",
        "  my_dict[\"dialogue\"].append(entry['dialogue'])\n",
        "  my_dict[\"summary\"].append(entry['summary'])  "
      ],
      "metadata": {
        "id": "YoG8L2RSftAR"
      },
      "execution_count": null,
      "outputs": []
    },
    {
      "cell_type": "code",
      "source": [
        "df = pd.DataFrame(my_dict)"
      ],
      "metadata": {
        "id": "RtOmT_3GgMTG"
      },
      "execution_count": null,
      "outputs": []
    },
    {
      "cell_type": "code",
      "source": [
        "#basic cleaning \n",
        "noise=[\"\\n\",\"\\r\",\";-\",\"😎\",\"❤️\",\"😄\",\"😁\",\"(^o^)\",\"😊\",\"👍\",\"😃\",\"🤔\",\"🙄\",\"😒\",\"😒\",\"😜\",\"😪\",\" 😪\",\"(＾▽＾)\",\"<file_gif>\",\"🙃\",\"🤓\",\"😂\",\"💕\",\"<file_video>\",\":D\",\"💪\",\"🥕\",\"😝\"]\n",
        "for i in range(len(noise)):\n",
        "  df['dialogue']=df['dialogue'].map(lambda x : str(x).replace(noise[i],\"\"))"
      ],
      "metadata": {
        "id": "p_yNHbSNgyib"
      },
      "execution_count": null,
      "outputs": []
    },
    {
      "cell_type": "code",
      "source": [
        "df.head()"
      ],
      "metadata": {
        "colab": {
          "base_uri": "https://localhost:8080/",
          "height": 632
        },
        "id": "mcXsiavCwUg7",
        "outputId": "7b04f0df-3263-4a80-e17c-3c478d7f40fb"
      },
      "execution_count": null,
      "outputs": [
        {
          "output_type": "execute_result",
          "data": {
            "text/plain": [
              "         id  \\\n",
              "0  13817023   \n",
              "1  13716628   \n",
              "2  13829420   \n",
              "3  13819648   \n",
              "4  13728448   \n",
              "\n",
              "                                                                                                                                                                                                                                                                                                                                                                                                                                                                                                                                                                                                                  dialogue  \\\n",
              "0  A: Hi Tom, are you busy tomorrow’s afternoon?B: I’m pretty sure I am. What’s up?A: Can you go with me to the animal shelter?.B: What do you want to do?A: I want to get a puppy for my son.B: That will make him so happy.A: Yeah, we’ve discussed it many times. I think he’s ready now.B: That’s good. Raising a dog is a tough issue. Like having a baby ) A: I'll get him one of those little dogs.B: One that won't grow up too big)A: And eat too much))B: Do you know which one he would like?A: Oh, yes, I took him there last Monday. He showed me one that he really liked.B: I bet you had to drag him aw...   \n",
              "1  Emma: I’ve just fallen in love with this advent calendar! Awesome! I wanna one for my kids!Rob: I used to get one every year as a child! Loved them! Emma: Yeah, i remember! they were filled with chocolates!Lauren: they are different these days! much more sophisticated! Haha!Rob: yeah, they can be fabric/ wooden, shop bought/ homemade, filled with various stuffEmma: what do you fit inside?Lauren: small toys, Christmas decorations, creative stuff, hair bands & clips, stickers, pencils & rubbers, small puzzles, sweetsEmma: WOW! That’s brill! XLauren: i add one more very special thing as well-...   \n",
              "2  Jackie: Madison is pregnantJackie: but she doesn't wanna talk about itIggy: whyJackie: I don't know why because she doesn't wanna talk about itIggy: okJackie: I wanted to prepare you for it because people get super excited and ask lots of questionsJackie: and she looked way more anxious than excitedIggy: she's probably worrying about itIggy: she's taking every commitment really seriouslyJackie: it could be money problems or relationship problemsIggy: or maybe she wants an abortionJackie: it could be all of the aboveIggy: but you know what?Iggy: once my friend was pregnant and I couldn't br...   \n",
              "3  Marla: <file_photo>Marla: look what I found under my bedKiki: lolTamara: is that someone's underwear?Marla: it certainly isn't mine, my ass is big but it isn't hugeKiki: it looks like male underwearTamara: not necessarily, maybe some butch had fun in your room while you were goneMarla: ok but how can you leave your underwear after hooking up? wtf is wrong with peopleKiki: she or he could be too wasted to noticeTamara: or maybe someone put their pants there to piss you offMarla: that makes no senseMarla: it's so fucking childishKiki: if it's childish then it must have been your sister's ide...   \n",
              "4                                                                                                                                                                                                                                                                                                                                                                                                                                   Robert: Hey give me the address of this music shop you mentioned beforeRobert: I have to buy guitar cableFred: <file_other>Fred: Catch it on google mapsRobert: thx m8Fred: ur welcome   \n",
              "\n",
              "                                                                                                                                                                                          summary  \n",
              "0                                                 A will go to the animal shelter tomorrow to get a puppy for her son. They already visited the shelter last Monday and the son chose the puppy.   \n",
              "1  Emma and Rob love the advent calendar. Lauren fits inside calendar various items, for instance, small toys and Christmas decorations. Her children are excited whenever they get the calendar.  \n",
              "2                                                                      Madison is pregnant but she doesn't want to talk about it. Patricia Stevens got married and she thought she was pregnant.   \n",
              "3                                                                                                                                                     Marla found a pair of boxers under her bed.  \n",
              "4                                                                                                    Robert wants Fred to send him the address of the music shop as he needs to buy guitar cable.  "
            ],
            "text/html": [
              "\n",
              "  <div id=\"df-d5076eec-f9ef-4e22-8de2-4813105b58e2\">\n",
              "    <div class=\"colab-df-container\">\n",
              "      <div>\n",
              "<style scoped>\n",
              "    .dataframe tbody tr th:only-of-type {\n",
              "        vertical-align: middle;\n",
              "    }\n",
              "\n",
              "    .dataframe tbody tr th {\n",
              "        vertical-align: top;\n",
              "    }\n",
              "\n",
              "    .dataframe thead th {\n",
              "        text-align: right;\n",
              "    }\n",
              "</style>\n",
              "<table border=\"1\" class=\"dataframe\">\n",
              "  <thead>\n",
              "    <tr style=\"text-align: right;\">\n",
              "      <th></th>\n",
              "      <th>id</th>\n",
              "      <th>dialogue</th>\n",
              "      <th>summary</th>\n",
              "    </tr>\n",
              "  </thead>\n",
              "  <tbody>\n",
              "    <tr>\n",
              "      <th>0</th>\n",
              "      <td>13817023</td>\n",
              "      <td>A: Hi Tom, are you busy tomorrow’s afternoon?B: I’m pretty sure I am. What’s up?A: Can you go with me to the animal shelter?.B: What do you want to do?A: I want to get a puppy for my son.B: That will make him so happy.A: Yeah, we’ve discussed it many times. I think he’s ready now.B: That’s good. Raising a dog is a tough issue. Like having a baby ) A: I'll get him one of those little dogs.B: One that won't grow up too big)A: And eat too much))B: Do you know which one he would like?A: Oh, yes, I took him there last Monday. He showed me one that he really liked.B: I bet you had to drag him aw...</td>\n",
              "      <td>A will go to the animal shelter tomorrow to get a puppy for her son. They already visited the shelter last Monday and the son chose the puppy.</td>\n",
              "    </tr>\n",
              "    <tr>\n",
              "      <th>1</th>\n",
              "      <td>13716628</td>\n",
              "      <td>Emma: I’ve just fallen in love with this advent calendar! Awesome! I wanna one for my kids!Rob: I used to get one every year as a child! Loved them! Emma: Yeah, i remember! they were filled with chocolates!Lauren: they are different these days! much more sophisticated! Haha!Rob: yeah, they can be fabric/ wooden, shop bought/ homemade, filled with various stuffEmma: what do you fit inside?Lauren: small toys, Christmas decorations, creative stuff, hair bands &amp; clips, stickers, pencils &amp; rubbers, small puzzles, sweetsEmma: WOW! That’s brill! XLauren: i add one more very special thing as well-...</td>\n",
              "      <td>Emma and Rob love the advent calendar. Lauren fits inside calendar various items, for instance, small toys and Christmas decorations. Her children are excited whenever they get the calendar.</td>\n",
              "    </tr>\n",
              "    <tr>\n",
              "      <th>2</th>\n",
              "      <td>13829420</td>\n",
              "      <td>Jackie: Madison is pregnantJackie: but she doesn't wanna talk about itIggy: whyJackie: I don't know why because she doesn't wanna talk about itIggy: okJackie: I wanted to prepare you for it because people get super excited and ask lots of questionsJackie: and she looked way more anxious than excitedIggy: she's probably worrying about itIggy: she's taking every commitment really seriouslyJackie: it could be money problems or relationship problemsIggy: or maybe she wants an abortionJackie: it could be all of the aboveIggy: but you know what?Iggy: once my friend was pregnant and I couldn't br...</td>\n",
              "      <td>Madison is pregnant but she doesn't want to talk about it. Patricia Stevens got married and she thought she was pregnant.</td>\n",
              "    </tr>\n",
              "    <tr>\n",
              "      <th>3</th>\n",
              "      <td>13819648</td>\n",
              "      <td>Marla: &lt;file_photo&gt;Marla: look what I found under my bedKiki: lolTamara: is that someone's underwear?Marla: it certainly isn't mine, my ass is big but it isn't hugeKiki: it looks like male underwearTamara: not necessarily, maybe some butch had fun in your room while you were goneMarla: ok but how can you leave your underwear after hooking up? wtf is wrong with peopleKiki: she or he could be too wasted to noticeTamara: or maybe someone put their pants there to piss you offMarla: that makes no senseMarla: it's so fucking childishKiki: if it's childish then it must have been your sister's ide...</td>\n",
              "      <td>Marla found a pair of boxers under her bed.</td>\n",
              "    </tr>\n",
              "    <tr>\n",
              "      <th>4</th>\n",
              "      <td>13728448</td>\n",
              "      <td>Robert: Hey give me the address of this music shop you mentioned beforeRobert: I have to buy guitar cableFred: &lt;file_other&gt;Fred: Catch it on google mapsRobert: thx m8Fred: ur welcome</td>\n",
              "      <td>Robert wants Fred to send him the address of the music shop as he needs to buy guitar cable.</td>\n",
              "    </tr>\n",
              "  </tbody>\n",
              "</table>\n",
              "</div>\n",
              "      <button class=\"colab-df-convert\" onclick=\"convertToInteractive('df-d5076eec-f9ef-4e22-8de2-4813105b58e2')\"\n",
              "              title=\"Convert this dataframe to an interactive table.\"\n",
              "              style=\"display:none;\">\n",
              "        \n",
              "  <svg xmlns=\"http://www.w3.org/2000/svg\" height=\"24px\"viewBox=\"0 0 24 24\"\n",
              "       width=\"24px\">\n",
              "    <path d=\"M0 0h24v24H0V0z\" fill=\"none\"/>\n",
              "    <path d=\"M18.56 5.44l.94 2.06.94-2.06 2.06-.94-2.06-.94-.94-2.06-.94 2.06-2.06.94zm-11 1L8.5 8.5l.94-2.06 2.06-.94-2.06-.94L8.5 2.5l-.94 2.06-2.06.94zm10 10l.94 2.06.94-2.06 2.06-.94-2.06-.94-.94-2.06-.94 2.06-2.06.94z\"/><path d=\"M17.41 7.96l-1.37-1.37c-.4-.4-.92-.59-1.43-.59-.52 0-1.04.2-1.43.59L10.3 9.45l-7.72 7.72c-.78.78-.78 2.05 0 2.83L4 21.41c.39.39.9.59 1.41.59.51 0 1.02-.2 1.41-.59l7.78-7.78 2.81-2.81c.8-.78.8-2.07 0-2.86zM5.41 20L4 18.59l7.72-7.72 1.47 1.35L5.41 20z\"/>\n",
              "  </svg>\n",
              "      </button>\n",
              "      \n",
              "  <style>\n",
              "    .colab-df-container {\n",
              "      display:flex;\n",
              "      flex-wrap:wrap;\n",
              "      gap: 12px;\n",
              "    }\n",
              "\n",
              "    .colab-df-convert {\n",
              "      background-color: #E8F0FE;\n",
              "      border: none;\n",
              "      border-radius: 50%;\n",
              "      cursor: pointer;\n",
              "      display: none;\n",
              "      fill: #1967D2;\n",
              "      height: 32px;\n",
              "      padding: 0 0 0 0;\n",
              "      width: 32px;\n",
              "    }\n",
              "\n",
              "    .colab-df-convert:hover {\n",
              "      background-color: #E2EBFA;\n",
              "      box-shadow: 0px 1px 2px rgba(60, 64, 67, 0.3), 0px 1px 3px 1px rgba(60, 64, 67, 0.15);\n",
              "      fill: #174EA6;\n",
              "    }\n",
              "\n",
              "    [theme=dark] .colab-df-convert {\n",
              "      background-color: #3B4455;\n",
              "      fill: #D2E3FC;\n",
              "    }\n",
              "\n",
              "    [theme=dark] .colab-df-convert:hover {\n",
              "      background-color: #434B5C;\n",
              "      box-shadow: 0px 1px 3px 1px rgba(0, 0, 0, 0.15);\n",
              "      filter: drop-shadow(0px 1px 2px rgba(0, 0, 0, 0.3));\n",
              "      fill: #FFFFFF;\n",
              "    }\n",
              "  </style>\n",
              "\n",
              "      <script>\n",
              "        const buttonEl =\n",
              "          document.querySelector('#df-d5076eec-f9ef-4e22-8de2-4813105b58e2 button.colab-df-convert');\n",
              "        buttonEl.style.display =\n",
              "          google.colab.kernel.accessAllowed ? 'block' : 'none';\n",
              "\n",
              "        async function convertToInteractive(key) {\n",
              "          const element = document.querySelector('#df-d5076eec-f9ef-4e22-8de2-4813105b58e2');\n",
              "          const dataTable =\n",
              "            await google.colab.kernel.invokeFunction('convertToInteractive',\n",
              "                                                     [key], {});\n",
              "          if (!dataTable) return;\n",
              "\n",
              "          const docLinkHtml = 'Like what you see? Visit the ' +\n",
              "            '<a target=\"_blank\" href=https://colab.research.google.com/notebooks/data_table.ipynb>data table notebook</a>'\n",
              "            + ' to learn more about interactive tables.';\n",
              "          element.innerHTML = '';\n",
              "          dataTable['output_type'] = 'display_data';\n",
              "          await google.colab.output.renderOutput(dataTable, element);\n",
              "          const docLink = document.createElement('div');\n",
              "          docLink.innerHTML = docLinkHtml;\n",
              "          element.appendChild(docLink);\n",
              "        }\n",
              "      </script>\n",
              "    </div>\n",
              "  </div>\n",
              "  "
            ]
          },
          "metadata": {},
          "execution_count": 12
        }
      ]
    },
    {
      "cell_type": "markdown",
      "source": [
        "#Downloading the required objects"
      ],
      "metadata": {
        "id": "rx97cCOCzG0_"
      }
    },
    {
      "cell_type": "code",
      "source": [
        "pretrained_model_name = \"philschmid/bart-large-cnn-samsum\"\n",
        "hf_arch, hf_config, hf_tokenizer, hf_model = get_hf_objects(pretrained_model_name, model_cls=BartForConditionalGeneration)\n",
        "hf_arch, type(hf_config), type(hf_tokenizer), type(hf_model)"
      ],
      "metadata": {
        "colab": {
          "base_uri": "https://localhost:8080/"
        },
        "id": "AVLwwLpnwc4t",
        "outputId": "2ee7526d-821c-4a4f-defd-8dbc57aba9ce"
      },
      "execution_count": null,
      "outputs": [
        {
          "output_type": "execute_result",
          "data": {
            "text/plain": [
              "('bart',\n",
              " transformers.models.bart.configuration_bart.BartConfig,\n",
              " transformers.models.bart.tokenization_bart_fast.BartTokenizerFast,\n",
              " transformers.models.bart.modeling_bart.BartForConditionalGeneration)"
            ]
          },
          "metadata": {},
          "execution_count": 13
        }
      ]
    },
    {
      "cell_type": "code",
      "source": [
        "text_gen_kwargs = default_text_gen_kwargs(hf_config, hf_model, task='summarization')\n",
        "text_gen_kwargs"
      ],
      "metadata": {
        "id": "rQm6LFj3wo-u",
        "colab": {
          "base_uri": "https://localhost:8080/"
        },
        "outputId": "fb0d9782-1245-43c9-f786-40b5fbd32688"
      },
      "execution_count": null,
      "outputs": [
        {
          "output_type": "execute_result",
          "data": {
            "text/plain": [
              "{'max_length': 142,\n",
              " 'min_length': 56,\n",
              " 'do_sample': False,\n",
              " 'early_stopping': True,\n",
              " 'num_beams': 4,\n",
              " 'temperature': 1.0,\n",
              " 'top_k': 50,\n",
              " 'top_p': 1.0,\n",
              " 'typical_p': 1.0,\n",
              " 'repetition_penalty': 1.0,\n",
              " 'bad_words_ids': None,\n",
              " 'bos_token_id': 0,\n",
              " 'pad_token_id': 1,\n",
              " 'eos_token_id': 2,\n",
              " 'length_penalty': 2.0,\n",
              " 'no_repeat_ngram_size': 3,\n",
              " 'encoder_no_repeat_ngram_size': 0,\n",
              " 'num_return_sequences': 1,\n",
              " 'decoder_start_token_id': 2,\n",
              " 'use_cache': True,\n",
              " 'num_beam_groups': 1,\n",
              " 'diversity_penalty': 0.0,\n",
              " 'output_attentions': False,\n",
              " 'output_hidden_states': False,\n",
              " 'output_scores': False,\n",
              " 'return_dict_in_generate': False,\n",
              " 'forced_bos_token_id': 0,\n",
              " 'forced_eos_token_id': 2,\n",
              " 'remove_invalid_values': False,\n",
              " 'exponential_decay_length_penalty': None}"
            ]
          },
          "metadata": {},
          "execution_count": 14
        }
      ]
    },
    {
      "cell_type": "markdown",
      "source": [
        "#Data block for Data-loader"
      ],
      "metadata": {
        "id": "h-H86LYwFwH1"
      }
    },
    {
      "cell_type": "code",
      "source": [
        "hf_batch_tfm = Seq2SeqBatchTokenizeTransform(\n",
        "    hf_arch, hf_config, hf_tokenizer, hf_model, max_length=50, max_tgt_length=20,\n",
        "     min_length=10,\n",
        "     text_gen_kwargs=text_gen_kwargs\n",
        ")"
      ],
      "metadata": {
        "id": "yd_zGmt1wvla"
      },
      "execution_count": null,
      "outputs": []
    },
    {
      "cell_type": "code",
      "source": [
        "blocks = (Seq2SeqTextBlock(batch_tokenize_tfm=hf_batch_tfm), noop)"
      ],
      "metadata": {
        "id": "6g0mPPz1HFBF"
      },
      "execution_count": null,
      "outputs": []
    },
    {
      "cell_type": "code",
      "source": [
        "dblock = DataBlock(blocks=blocks,\n",
        "                   get_x=ColReader('dialogue'),\n",
        "                   get_y=ColReader('summary'),\n",
        "                   splitter=TrainTestSplitter(test_size=0.2, train_size=0.8, random_state=707, stratify=None,  shuffle=True))"
      ],
      "metadata": {
        "id": "IdO4yZhhTz6M"
      },
      "execution_count": null,
      "outputs": []
    },
    {
      "cell_type": "code",
      "source": [
        "dls = dblock.dataloaders(df, bs=2)"
      ],
      "metadata": {
        "id": "ErVhwg_pxMlK"
      },
      "execution_count": null,
      "outputs": []
    },
    {
      "cell_type": "code",
      "source": [
        "len(dls.train.items), len(dls.valid.items)"
      ],
      "metadata": {
        "colab": {
          "base_uri": "https://localhost:8080/"
        },
        "id": "_1B606tE24Ci",
        "outputId": "af9fac2f-b64f-42fb-a49b-1d8d4299a0d1"
      },
      "execution_count": null,
      "outputs": [
        {
          "output_type": "execute_result",
          "data": {
            "text/plain": [
              "(16, 4)"
            ]
          },
          "metadata": {},
          "execution_count": 22
        }
      ]
    },
    {
      "cell_type": "code",
      "source": [
        "dls.show_batch(dataloaders=dls, max_n=2)"
      ],
      "metadata": {
        "colab": {
          "base_uri": "https://localhost:8080/",
          "height": 164
        },
        "id": "MGCwWaCHxTw7",
        "outputId": "849d1c20-4cac-4dad-b0ce-22298d6ef94f"
      },
      "execution_count": null,
      "outputs": [
        {
          "output_type": "display_data",
          "data": {
            "text/plain": [
              "<IPython.core.display.HTML object>"
            ],
            "text/html": [
              "<table border=\"1\" class=\"dataframe\">\n",
              "  <thead>\n",
              "    <tr style=\"text-align: right;\">\n",
              "      <th></th>\n",
              "      <th>text</th>\n",
              "      <th>target</th>\n",
              "    </tr>\n",
              "  </thead>\n",
              "  <tbody>\n",
              "    <tr>\n",
              "      <th>0</th>\n",
              "      <td>&lt;s&gt; Marla: &lt;file_photo&gt;Marla: look what I found under my bedKiki: lolTamara: is that someone's underwear?Marla: it certainly isn't mine, my ass is big but it isn't&lt;/s&gt;</td>\n",
              "      <td>Marla found a pair of boxers under her bed.</td>\n",
              "    </tr>\n",
              "    <tr>\n",
              "      <th>1</th>\n",
              "      <td>&lt;s&gt; Emma: I’ve just fallen in love with this advent calendar! Awesome! I wanna one for my kids!Rob: I used to get one every year as a child! Loved them! Emma: Yeah, i remember!&lt;/s&gt;</td>\n",
              "      <td>Emma and Rob love the advent calendar. Lauren fits inside calendar various items, for instance, small toys and Christmas decorations. Her children are excited whenever they get the calendar.</td>\n",
              "    </tr>\n",
              "  </tbody>\n",
              "</table>"
            ]
          },
          "metadata": {}
        }
      ]
    },
    {
      "cell_type": "markdown",
      "source": [
        "# Training setup"
      ],
      "metadata": {
        "id": "wjI_p5OrVwpJ"
      }
    },
    {
      "cell_type": "code",
      "source": [
        "model = BaseModelWrapper(hf_model)"
      ],
      "metadata": {
        "id": "OR8k9ZqSxnlQ"
      },
      "execution_count": null,
      "outputs": []
    },
    {
      "cell_type": "code",
      "source": [
        "learn_cbs = [BaseModelCallback]"
      ],
      "metadata": {
        "id": "3kH4x_wpz4kF"
      },
      "execution_count": null,
      "outputs": []
    },
    {
      "cell_type": "code",
      "source": [
        "seq2seq_metrics = {\n",
        "        'bertscore': {\n",
        "            'compute_kwargs': { 'lang': 'en' },\n",
        "            'returns': [\"precision\", \"recall\", \"f1\"]\n",
        "        }\n",
        "    }"
      ],
      "metadata": {
        "id": "ZUENbr5pxYHs"
      },
      "execution_count": null,
      "outputs": []
    },
    {
      "cell_type": "code",
      "source": [
        "fit_cbs = [Seq2SeqMetricsCallback(custom_metrics=seq2seq_metrics)]"
      ],
      "metadata": {
        "id": "GN4_I6IMz5t8"
      },
      "execution_count": null,
      "outputs": []
    },
    {
      "cell_type": "markdown",
      "source": [
        "# Learner\n",
        "\n",
        "Class to handle training loop."
      ],
      "metadata": {
        "id": "o667AxAEWXiz"
      }
    },
    {
      "cell_type": "code",
      "source": [
        "learn = Learner(dls, \n",
        "                model,\n",
        "                opt_func=ranger,\n",
        "                loss_func=CrossEntropyLossFlat(),\n",
        "                cbs=learn_cbs,\n",
        "                splitter=partial(blurr_seq2seq_splitter, arch=hf_arch)).to_fp16()"
      ],
      "metadata": {
        "id": "EfkvApGEz7PS"
      },
      "execution_count": null,
      "outputs": []
    },
    {
      "cell_type": "code",
      "source": [
        "learn.create_opt() "
      ],
      "metadata": {
        "id": "8xhQzwnX3LhN"
      },
      "execution_count": null,
      "outputs": []
    },
    {
      "cell_type": "code",
      "source": [
        "learn.freeze()"
      ],
      "metadata": {
        "id": "wS91XqWlz9oP"
      },
      "execution_count": null,
      "outputs": []
    },
    {
      "cell_type": "code",
      "source": [
        "learn.summary()"
      ],
      "metadata": {
        "id": "e7K9FIm50BRa",
        "colab": {
          "base_uri": "https://localhost:8080/",
          "height": 1000
        },
        "outputId": "c501ef85-eff4-48a1-a944-1acc487d448d"
      },
      "execution_count": null,
      "outputs": [
        {
          "output_type": "display_data",
          "data": {
            "text/plain": [
              "<IPython.core.display.HTML object>"
            ],
            "text/html": [
              "\n",
              "<style>\n",
              "    /* Turns off some styling */\n",
              "    progress {\n",
              "        /* gets rid of default border in Firefox and Opera. */\n",
              "        border: none;\n",
              "        /* Needs to be in here for Safari polyfill so background images work as expected. */\n",
              "        background-size: auto;\n",
              "    }\n",
              "    progress:not([value]), progress:not([value])::-webkit-progress-bar {\n",
              "        background: repeating-linear-gradient(45deg, #7e7e7e, #7e7e7e 10px, #5c5c5c 10px, #5c5c5c 20px);\n",
              "    }\n",
              "    .progress-bar-interrupted, .progress-bar-interrupted::-webkit-progress-bar {\n",
              "        background: #F44336;\n",
              "    }\n",
              "</style>\n"
            ]
          },
          "metadata": {}
        },
        {
          "output_type": "display_data",
          "data": {
            "text/plain": [
              "<IPython.core.display.HTML object>"
            ],
            "text/html": [
              ""
            ]
          },
          "metadata": {}
        },
        {
          "output_type": "execute_result",
          "data": {
            "text/plain": [
              "BaseModelWrapper (Input shape: 2 x 50)\n",
              "============================================================================\n",
              "Layer (type)         Output Shape         Param #    Trainable \n",
              "============================================================================\n",
              "                     2 x 36 x 1024       \n",
              "Embedding                                 51470336   False     \n",
              "Embedding                                 51470336   False     \n",
              "____________________________________________________________________________\n",
              "                     2 x 1024            \n",
              "BartLearnedPositionalEmbedding                      1050624    False     \n",
              "Linear                                    1049600    False     \n",
              "Linear                                    1049600    False     \n",
              "Linear                                    1049600    False     \n",
              "Linear                                    1049600    False     \n",
              "LayerNorm                                 2048       True      \n",
              "GELUActivation                                                 \n",
              "____________________________________________________________________________\n",
              "                     2 x 50 x 4096       \n",
              "Linear                                    4198400    False     \n",
              "____________________________________________________________________________\n",
              "                     2 x 50 x 1024       \n",
              "Linear                                    4195328    False     \n",
              "LayerNorm                                 2048       True      \n",
              "Linear                                    1049600    False     \n",
              "Linear                                    1049600    False     \n",
              "Linear                                    1049600    False     \n",
              "Linear                                    1049600    False     \n",
              "LayerNorm                                 2048       True      \n",
              "GELUActivation                                                 \n",
              "____________________________________________________________________________\n",
              "                     2 x 50 x 4096       \n",
              "Linear                                    4198400    False     \n",
              "____________________________________________________________________________\n",
              "                     2 x 50 x 1024       \n",
              "Linear                                    4195328    False     \n",
              "LayerNorm                                 2048       True      \n",
              "Linear                                    1049600    False     \n",
              "Linear                                    1049600    False     \n",
              "Linear                                    1049600    False     \n",
              "Linear                                    1049600    False     \n",
              "LayerNorm                                 2048       True      \n",
              "GELUActivation                                                 \n",
              "____________________________________________________________________________\n",
              "                     2 x 50 x 4096       \n",
              "Linear                                    4198400    False     \n",
              "____________________________________________________________________________\n",
              "                     2 x 50 x 1024       \n",
              "Linear                                    4195328    False     \n",
              "LayerNorm                                 2048       True      \n",
              "Linear                                    1049600    False     \n",
              "Linear                                    1049600    False     \n",
              "Linear                                    1049600    False     \n",
              "Linear                                    1049600    False     \n",
              "LayerNorm                                 2048       True      \n",
              "GELUActivation                                                 \n",
              "____________________________________________________________________________\n",
              "                     2 x 50 x 4096       \n",
              "Linear                                    4198400    False     \n",
              "____________________________________________________________________________\n",
              "                     2 x 50 x 1024       \n",
              "Linear                                    4195328    False     \n",
              "LayerNorm                                 2048       True      \n",
              "Linear                                    1049600    False     \n",
              "Linear                                    1049600    False     \n",
              "Linear                                    1049600    False     \n",
              "Linear                                    1049600    False     \n",
              "LayerNorm                                 2048       True      \n",
              "GELUActivation                                                 \n",
              "____________________________________________________________________________\n",
              "                     2 x 50 x 4096       \n",
              "Linear                                    4198400    False     \n",
              "____________________________________________________________________________\n",
              "                     2 x 50 x 1024       \n",
              "Linear                                    4195328    False     \n",
              "LayerNorm                                 2048       True      \n",
              "Linear                                    1049600    False     \n",
              "Linear                                    1049600    False     \n",
              "Linear                                    1049600    False     \n",
              "Linear                                    1049600    False     \n",
              "LayerNorm                                 2048       True      \n",
              "GELUActivation                                                 \n",
              "____________________________________________________________________________\n",
              "                     2 x 50 x 4096       \n",
              "Linear                                    4198400    False     \n",
              "____________________________________________________________________________\n",
              "                     2 x 50 x 1024       \n",
              "Linear                                    4195328    False     \n",
              "LayerNorm                                 2048       True      \n",
              "Linear                                    1049600    False     \n",
              "Linear                                    1049600    False     \n",
              "Linear                                    1049600    False     \n",
              "Linear                                    1049600    False     \n",
              "LayerNorm                                 2048       True      \n",
              "GELUActivation                                                 \n",
              "____________________________________________________________________________\n",
              "                     2 x 50 x 4096       \n",
              "Linear                                    4198400    False     \n",
              "____________________________________________________________________________\n",
              "                     2 x 50 x 1024       \n",
              "Linear                                    4195328    False     \n",
              "LayerNorm                                 2048       True      \n",
              "Linear                                    1049600    False     \n",
              "Linear                                    1049600    False     \n",
              "Linear                                    1049600    False     \n",
              "Linear                                    1049600    False     \n",
              "LayerNorm                                 2048       True      \n",
              "GELUActivation                                                 \n",
              "____________________________________________________________________________\n",
              "                     2 x 50 x 4096       \n",
              "Linear                                    4198400    False     \n",
              "____________________________________________________________________________\n",
              "                     2 x 50 x 1024       \n",
              "Linear                                    4195328    False     \n",
              "LayerNorm                                 2048       True      \n",
              "Linear                                    1049600    False     \n",
              "Linear                                    1049600    False     \n",
              "Linear                                    1049600    False     \n",
              "Linear                                    1049600    False     \n",
              "LayerNorm                                 2048       True      \n",
              "GELUActivation                                                 \n",
              "____________________________________________________________________________\n",
              "                     2 x 50 x 4096       \n",
              "Linear                                    4198400    False     \n",
              "____________________________________________________________________________\n",
              "                     2 x 50 x 1024       \n",
              "Linear                                    4195328    False     \n",
              "LayerNorm                                 2048       True      \n",
              "Linear                                    1049600    False     \n",
              "Linear                                    1049600    False     \n",
              "Linear                                    1049600    False     \n",
              "Linear                                    1049600    False     \n",
              "LayerNorm                                 2048       True      \n",
              "GELUActivation                                                 \n",
              "____________________________________________________________________________\n",
              "                     2 x 50 x 4096       \n",
              "Linear                                    4198400    False     \n",
              "____________________________________________________________________________\n",
              "                     2 x 50 x 1024       \n",
              "Linear                                    4195328    False     \n",
              "LayerNorm                                 2048       True      \n",
              "Linear                                    1049600    False     \n",
              "Linear                                    1049600    False     \n",
              "Linear                                    1049600    False     \n",
              "Linear                                    1049600    False     \n",
              "LayerNorm                                 2048       True      \n",
              "GELUActivation                                                 \n",
              "____________________________________________________________________________\n",
              "                     2 x 50 x 4096       \n",
              "Linear                                    4198400    False     \n",
              "____________________________________________________________________________\n",
              "                     2 x 50 x 1024       \n",
              "Linear                                    4195328    False     \n",
              "LayerNorm                                 2048       True      \n",
              "Linear                                    1049600    False     \n",
              "Linear                                    1049600    False     \n",
              "Linear                                    1049600    False     \n",
              "Linear                                    1049600    False     \n",
              "LayerNorm                                 2048       True      \n",
              "GELUActivation                                                 \n",
              "____________________________________________________________________________\n",
              "                     2 x 50 x 4096       \n",
              "Linear                                    4198400    False     \n",
              "____________________________________________________________________________\n",
              "                     2 x 50 x 1024       \n",
              "Linear                                    4195328    False     \n",
              "LayerNorm                                 2048       True      \n",
              "LayerNorm                                 2048       True      \n",
              "____________________________________________________________________________\n",
              "                     2 x 36 x 1024       \n",
              "Embedding                                 51470336   False     \n",
              "____________________________________________________________________________\n",
              "                     2 x 1024            \n",
              "BartLearnedPositionalEmbedding                      1050624    False     \n",
              "Linear                                    1049600    True      \n",
              "Linear                                    1049600    True      \n",
              "Linear                                    1049600    True      \n",
              "Linear                                    1049600    True      \n",
              "GELUActivation                                                 \n",
              "LayerNorm                                 2048       True      \n",
              "Linear                                    1049600    True      \n",
              "Linear                                    1049600    True      \n",
              "Linear                                    1049600    True      \n",
              "Linear                                    1049600    True      \n",
              "LayerNorm                                 2048       True      \n",
              "____________________________________________________________________________\n",
              "                     2 x 36 x 4096       \n",
              "Linear                                    4198400    True      \n",
              "____________________________________________________________________________\n",
              "                     2 x 36 x 1024       \n",
              "Linear                                    4195328    True      \n",
              "LayerNorm                                 2048       True      \n",
              "Linear                                    1049600    True      \n",
              "Linear                                    1049600    True      \n",
              "Linear                                    1049600    True      \n",
              "Linear                                    1049600    True      \n",
              "GELUActivation                                                 \n",
              "LayerNorm                                 2048       True      \n",
              "Linear                                    1049600    True      \n",
              "Linear                                    1049600    True      \n",
              "Linear                                    1049600    True      \n",
              "Linear                                    1049600    True      \n",
              "LayerNorm                                 2048       True      \n",
              "____________________________________________________________________________\n",
              "                     2 x 36 x 4096       \n",
              "Linear                                    4198400    True      \n",
              "____________________________________________________________________________\n",
              "                     2 x 36 x 1024       \n",
              "Linear                                    4195328    True      \n",
              "LayerNorm                                 2048       True      \n",
              "Linear                                    1049600    True      \n",
              "Linear                                    1049600    True      \n",
              "Linear                                    1049600    True      \n",
              "Linear                                    1049600    True      \n",
              "GELUActivation                                                 \n",
              "LayerNorm                                 2048       True      \n",
              "Linear                                    1049600    True      \n",
              "Linear                                    1049600    True      \n",
              "Linear                                    1049600    True      \n",
              "Linear                                    1049600    True      \n",
              "LayerNorm                                 2048       True      \n",
              "____________________________________________________________________________\n",
              "                     2 x 36 x 4096       \n",
              "Linear                                    4198400    True      \n",
              "____________________________________________________________________________\n",
              "                     2 x 36 x 1024       \n",
              "Linear                                    4195328    True      \n",
              "LayerNorm                                 2048       True      \n",
              "Linear                                    1049600    True      \n",
              "Linear                                    1049600    True      \n",
              "Linear                                    1049600    True      \n",
              "Linear                                    1049600    True      \n",
              "GELUActivation                                                 \n",
              "LayerNorm                                 2048       True      \n",
              "Linear                                    1049600    True      \n",
              "Linear                                    1049600    True      \n",
              "Linear                                    1049600    True      \n",
              "Linear                                    1049600    True      \n",
              "LayerNorm                                 2048       True      \n",
              "____________________________________________________________________________\n",
              "                     2 x 36 x 4096       \n",
              "Linear                                    4198400    True      \n",
              "____________________________________________________________________________\n",
              "                     2 x 36 x 1024       \n",
              "Linear                                    4195328    True      \n",
              "LayerNorm                                 2048       True      \n",
              "Linear                                    1049600    True      \n",
              "Linear                                    1049600    True      \n",
              "Linear                                    1049600    True      \n",
              "Linear                                    1049600    True      \n",
              "GELUActivation                                                 \n",
              "LayerNorm                                 2048       True      \n",
              "Linear                                    1049600    True      \n",
              "Linear                                    1049600    True      \n",
              "Linear                                    1049600    True      \n",
              "Linear                                    1049600    True      \n",
              "LayerNorm                                 2048       True      \n",
              "____________________________________________________________________________\n",
              "                     2 x 36 x 4096       \n",
              "Linear                                    4198400    True      \n",
              "____________________________________________________________________________\n",
              "                     2 x 36 x 1024       \n",
              "Linear                                    4195328    True      \n",
              "LayerNorm                                 2048       True      \n",
              "Linear                                    1049600    True      \n",
              "Linear                                    1049600    True      \n",
              "Linear                                    1049600    True      \n",
              "Linear                                    1049600    True      \n",
              "GELUActivation                                                 \n",
              "LayerNorm                                 2048       True      \n",
              "Linear                                    1049600    True      \n",
              "Linear                                    1049600    True      \n",
              "Linear                                    1049600    True      \n",
              "Linear                                    1049600    True      \n",
              "LayerNorm                                 2048       True      \n",
              "____________________________________________________________________________\n",
              "                     2 x 36 x 4096       \n",
              "Linear                                    4198400    True      \n",
              "____________________________________________________________________________\n",
              "                     2 x 36 x 1024       \n",
              "Linear                                    4195328    True      \n",
              "LayerNorm                                 2048       True      \n",
              "Linear                                    1049600    True      \n",
              "Linear                                    1049600    True      \n",
              "Linear                                    1049600    True      \n",
              "Linear                                    1049600    True      \n",
              "GELUActivation                                                 \n",
              "LayerNorm                                 2048       True      \n",
              "Linear                                    1049600    True      \n",
              "Linear                                    1049600    True      \n",
              "Linear                                    1049600    True      \n",
              "Linear                                    1049600    True      \n",
              "LayerNorm                                 2048       True      \n",
              "____________________________________________________________________________\n",
              "                     2 x 36 x 4096       \n",
              "Linear                                    4198400    True      \n",
              "____________________________________________________________________________\n",
              "                     2 x 36 x 1024       \n",
              "Linear                                    4195328    True      \n",
              "LayerNorm                                 2048       True      \n",
              "Linear                                    1049600    True      \n",
              "Linear                                    1049600    True      \n",
              "Linear                                    1049600    True      \n",
              "Linear                                    1049600    True      \n",
              "GELUActivation                                                 \n",
              "LayerNorm                                 2048       True      \n",
              "Linear                                    1049600    True      \n",
              "Linear                                    1049600    True      \n",
              "Linear                                    1049600    True      \n",
              "Linear                                    1049600    True      \n",
              "LayerNorm                                 2048       True      \n",
              "____________________________________________________________________________\n",
              "                     2 x 36 x 4096       \n",
              "Linear                                    4198400    True      \n",
              "____________________________________________________________________________\n",
              "                     2 x 36 x 1024       \n",
              "Linear                                    4195328    True      \n",
              "LayerNorm                                 2048       True      \n",
              "Linear                                    1049600    True      \n",
              "Linear                                    1049600    True      \n",
              "Linear                                    1049600    True      \n",
              "Linear                                    1049600    True      \n",
              "GELUActivation                                                 \n",
              "LayerNorm                                 2048       True      \n",
              "Linear                                    1049600    True      \n",
              "Linear                                    1049600    True      \n",
              "Linear                                    1049600    True      \n",
              "Linear                                    1049600    True      \n",
              "LayerNorm                                 2048       True      \n",
              "____________________________________________________________________________\n",
              "                     2 x 36 x 4096       \n",
              "Linear                                    4198400    True      \n",
              "____________________________________________________________________________\n",
              "                     2 x 36 x 1024       \n",
              "Linear                                    4195328    True      \n",
              "LayerNorm                                 2048       True      \n",
              "Linear                                    1049600    True      \n",
              "Linear                                    1049600    True      \n",
              "Linear                                    1049600    True      \n",
              "Linear                                    1049600    True      \n",
              "GELUActivation                                                 \n",
              "LayerNorm                                 2048       True      \n",
              "Linear                                    1049600    True      \n",
              "Linear                                    1049600    True      \n",
              "Linear                                    1049600    True      \n",
              "Linear                                    1049600    True      \n",
              "LayerNorm                                 2048       True      \n",
              "____________________________________________________________________________\n",
              "                     2 x 36 x 4096       \n",
              "Linear                                    4198400    True      \n",
              "____________________________________________________________________________\n",
              "                     2 x 36 x 1024       \n",
              "Linear                                    4195328    True      \n",
              "LayerNorm                                 2048       True      \n",
              "Linear                                    1049600    True      \n",
              "Linear                                    1049600    True      \n",
              "Linear                                    1049600    True      \n",
              "Linear                                    1049600    True      \n",
              "GELUActivation                                                 \n",
              "LayerNorm                                 2048       True      \n",
              "Linear                                    1049600    True      \n",
              "Linear                                    1049600    True      \n",
              "Linear                                    1049600    True      \n",
              "Linear                                    1049600    True      \n",
              "LayerNorm                                 2048       True      \n",
              "____________________________________________________________________________\n",
              "                     2 x 36 x 4096       \n",
              "Linear                                    4198400    True      \n",
              "____________________________________________________________________________\n",
              "                     2 x 36 x 1024       \n",
              "Linear                                    4195328    True      \n",
              "LayerNorm                                 2048       True      \n",
              "Linear                                    1049600    True      \n",
              "Linear                                    1049600    True      \n",
              "Linear                                    1049600    True      \n",
              "Linear                                    1049600    True      \n",
              "GELUActivation                                                 \n",
              "LayerNorm                                 2048       True      \n",
              "Linear                                    1049600    True      \n",
              "Linear                                    1049600    True      \n",
              "Linear                                    1049600    True      \n",
              "Linear                                    1049600    True      \n",
              "LayerNorm                                 2048       True      \n",
              "____________________________________________________________________________\n",
              "                     2 x 36 x 4096       \n",
              "Linear                                    4198400    True      \n",
              "____________________________________________________________________________\n",
              "                     2 x 36 x 1024       \n",
              "Linear                                    4195328    True      \n",
              "LayerNorm                                 2048       True      \n",
              "LayerNorm                                 2048       True      \n",
              "____________________________________________________________________________\n",
              "                     2 x 36 x 50264      \n",
              "Linear                                    51470336   False     \n",
              "____________________________________________________________________________\n",
              "\n",
              "Total params: 560,701,440\n",
              "Total trainable params: 201,613,312\n",
              "Total non-trainable params: 359,088,128\n",
              "\n",
              "Optimizer used: <function ranger at 0x7f9c76439170>\n",
              "Loss function: FlattenedLoss of CrossEntropyLoss()\n",
              "\n",
              "Model frozen up to parameter group #2\n",
              "\n",
              "Callbacks:\n",
              "  - TrainEvalCallback\n",
              "  - BaseModelCallback\n",
              "  - CastToTensor\n",
              "  - MixedPrecision\n",
              "  - Recorder\n",
              "  - ProgressCallback"
            ],
            "application/vnd.google.colaboratory.intrinsic+json": {
              "type": "string"
            }
          },
          "metadata": {},
          "execution_count": 31
        }
      ]
    },
    {
      "cell_type": "markdown",
      "source": [
        "#Finding optimistic learning rate\n"
      ],
      "metadata": {
        "id": "8-xCRLbTW763"
      }
    },
    {
      "cell_type": "code",
      "source": [
        "learn.lr_find(suggest_funcs=[minimum, steep, valley, slide])"
      ],
      "metadata": {
        "colab": {
          "base_uri": "https://localhost:8080/",
          "height": 301
        },
        "id": "FUbkKyJ_x5O_",
        "outputId": "59567b9a-2e93-4525-9428-b6a6bf4689c6"
      },
      "execution_count": null,
      "outputs": [
        {
          "output_type": "display_data",
          "data": {
            "text/plain": [
              "<IPython.core.display.HTML object>"
            ],
            "text/html": [
              "\n",
              "<style>\n",
              "    /* Turns off some styling */\n",
              "    progress {\n",
              "        /* gets rid of default border in Firefox and Opera. */\n",
              "        border: none;\n",
              "        /* Needs to be in here for Safari polyfill so background images work as expected. */\n",
              "        background-size: auto;\n",
              "    }\n",
              "    progress:not([value]), progress:not([value])::-webkit-progress-bar {\n",
              "        background: repeating-linear-gradient(45deg, #7e7e7e, #7e7e7e 10px, #5c5c5c 10px, #5c5c5c 20px);\n",
              "    }\n",
              "    .progress-bar-interrupted, .progress-bar-interrupted::-webkit-progress-bar {\n",
              "        background: #F44336;\n",
              "    }\n",
              "</style>\n"
            ]
          },
          "metadata": {}
        },
        {
          "output_type": "display_data",
          "data": {
            "text/plain": [
              "<IPython.core.display.HTML object>"
            ],
            "text/html": [
              ""
            ]
          },
          "metadata": {}
        },
        {
          "output_type": "execute_result",
          "data": {
            "text/plain": [
              "SuggestedLRs(minimum=0.00036307806149125097, steep=1.0964781722577754e-06, valley=0.00013182566908653826, slide=0.00019054606673307717)"
            ]
          },
          "metadata": {},
          "execution_count": 32
        },
        {
          "output_type": "display_data",
          "data": {
            "text/plain": [
              "<Figure size 432x288 with 1 Axes>"
            ],
            "image/png": "[encoded data removed]"
          },
          "metadata": {
            "needs_background": "light"
          }
        }
      ]
    },
    {
      "cell_type": "code",
      "source": [
        "learn.fit_one_cycle(5, lr_max=1e-3, cbs=fit_cbs)"
      ],
      "metadata": {
        "colab": {
          "base_uri": "https://localhost:8080/",
          "height": 206
        },
        "id": "HFc7gEFPz8fF",
        "outputId": "fa3e1196-5e4f-4ff8-e8fb-43283eb864ea"
      },
      "execution_count": null,
      "outputs": [
        {
          "output_type": "display_data",
          "data": {
            "text/plain": [
              "<IPython.core.display.HTML object>"
            ],
            "text/html": [
              "\n",
              "<style>\n",
              "    /* Turns off some styling */\n",
              "    progress {\n",
              "        /* gets rid of default border in Firefox and Opera. */\n",
              "        border: none;\n",
              "        /* Needs to be in here for Safari polyfill so background images work as expected. */\n",
              "        background-size: auto;\n",
              "    }\n",
              "    progress:not([value]), progress:not([value])::-webkit-progress-bar {\n",
              "        background: repeating-linear-gradient(45deg, #7e7e7e, #7e7e7e 10px, #5c5c5c 10px, #5c5c5c 20px);\n",
              "    }\n",
              "    .progress-bar-interrupted, .progress-bar-interrupted::-webkit-progress-bar {\n",
              "        background: #F44336;\n",
              "    }\n",
              "</style>\n"
            ]
          },
          "metadata": {}
        },
        {
          "output_type": "display_data",
          "data": {
            "text/plain": [
              "<IPython.core.display.HTML object>"
            ],
            "text/html": [
              "<table border=\"1\" class=\"dataframe\">\n",
              "  <thead>\n",
              "    <tr style=\"text-align: left;\">\n",
              "      <th>epoch</th>\n",
              "      <th>train_loss</th>\n",
              "      <th>valid_loss</th>\n",
              "      <th>bertscore_precision</th>\n",
              "      <th>bertscore_recall</th>\n",
              "      <th>bertscore_f1</th>\n",
              "      <th>time</th>\n",
              "    </tr>\n",
              "  </thead>\n",
              "  <tbody>\n",
              "    <tr>\n",
              "      <td>0</td>\n",
              "      <td>1.419172</td>\n",
              "      <td>2.386627</td>\n",
              "      <td>0.835977</td>\n",
              "      <td>0.900849</td>\n",
              "      <td>0.867039</td>\n",
              "      <td>00:10</td>\n",
              "    </tr>\n",
              "    <tr>\n",
              "      <td>1</td>\n",
              "      <td>1.184879</td>\n",
              "      <td>3.057965</td>\n",
              "      <td>0.853495</td>\n",
              "      <td>0.887550</td>\n",
              "      <td>0.870125</td>\n",
              "      <td>00:08</td>\n",
              "    </tr>\n",
              "    <tr>\n",
              "      <td>2</td>\n",
              "      <td>1.148739</td>\n",
              "      <td>2.692237</td>\n",
              "      <td>0.861012</td>\n",
              "      <td>0.894474</td>\n",
              "      <td>0.877342</td>\n",
              "      <td>00:07</td>\n",
              "    </tr>\n",
              "    <tr>\n",
              "      <td>3</td>\n",
              "      <td>0.947734</td>\n",
              "      <td>2.673961</td>\n",
              "      <td>0.861529</td>\n",
              "      <td>0.890402</td>\n",
              "      <td>0.875660</td>\n",
              "      <td>00:08</td>\n",
              "    </tr>\n",
              "    <tr>\n",
              "      <td>4</td>\n",
              "      <td>0.772396</td>\n",
              "      <td>2.701610</td>\n",
              "      <td>0.864350</td>\n",
              "      <td>0.892496</td>\n",
              "      <td>0.878127</td>\n",
              "      <td>00:08</td>\n",
              "    </tr>\n",
              "  </tbody>\n",
              "</table>"
            ]
          },
          "metadata": {}
        }
      ]
    },
    {
      "cell_type": "markdown",
      "source": [
        "#Result"
      ],
      "metadata": {
        "id": "02YUHl1mX7y4"
      }
    },
    {
      "cell_type": "code",
      "source": [
        "learn.show_results(learner=learn)"
      ],
      "metadata": {
        "id": "irDW_j2S5B2l",
        "colab": {
          "base_uri": "https://localhost:8080/",
          "height": 167
        },
        "outputId": "0f81c72c-0a5c-4d05-9b61-625c349bf29d"
      },
      "execution_count": null,
      "outputs": [
        {
          "output_type": "display_data",
          "data": {
            "text/plain": [
              "<IPython.core.display.HTML object>"
            ],
            "text/html": [
              "\n",
              "<style>\n",
              "    /* Turns off some styling */\n",
              "    progress {\n",
              "        /* gets rid of default border in Firefox and Opera. */\n",
              "        border: none;\n",
              "        /* Needs to be in here for Safari polyfill so background images work as expected. */\n",
              "        background-size: auto;\n",
              "    }\n",
              "    progress:not([value]), progress:not([value])::-webkit-progress-bar {\n",
              "        background: repeating-linear-gradient(45deg, #7e7e7e, #7e7e7e 10px, #5c5c5c 10px, #5c5c5c 20px);\n",
              "    }\n",
              "    .progress-bar-interrupted, .progress-bar-interrupted::-webkit-progress-bar {\n",
              "        background: #F44336;\n",
              "    }\n",
              "</style>\n"
            ]
          },
          "metadata": {}
        },
        {
          "output_type": "display_data",
          "data": {
            "text/plain": [
              "<IPython.core.display.HTML object>"
            ],
            "text/html": [
              ""
            ]
          },
          "metadata": {}
        },
        {
          "output_type": "display_data",
          "data": {
            "text/plain": [
              "<IPython.core.display.HTML object>"
            ],
            "text/html": [
              "<table border=\"1\" class=\"dataframe\">\n",
              "  <thead>\n",
              "    <tr style=\"text-align: right;\">\n",
              "      <th></th>\n",
              "      <th>text</th>\n",
              "      <th>target</th>\n",
              "      <th>prediction</th>\n",
              "    </tr>\n",
              "  </thead>\n",
              "  <tbody>\n",
              "    <tr>\n",
              "      <th>0</th>\n",
              "      <td>Poppy: I literally cannot think any more today!Alice: Yeah, I'm in the same shape. What a long day!Poppy: Lunch went by in a flash because I had errands, which makes the day so slow</td>\n",
              "      <td>Poppy and Alice are meeting for drinks after work at Nick's at 5:30. Alice fancies Fred, she will invite him and a bunch of other coworkers.</td>\n",
              "      <td>[ Alice and Poppy are in a bad mood after a long day of shopping and running errands. They need to think of what to do tomorrow, but they will think of other things after dinner. Earlier than that they will go shopping tomorrow. They will do whatever they need to do.,  Jane wants to make a reservation for 6 people, tonight around 20:00. She wants to book a vegano Resto for tonight. Her son wants to explore the south of the island tomorrow. They already visited the resto last Monday and the son chose the venue. ]</td>\n",
              "    </tr>\n",
              "  </tbody>\n",
              "</table>"
            ]
          },
          "metadata": {}
        }
      ]
    },
    {
      "cell_type": "code",
      "source": [
        "test_conversation = \"\"\"\n",
        "Agent: Thank you for calling concierge department. My name is Wendy. With whom do I have the pleasure of speaking with today?\n",
        "Customer: Hi, Wendy. my name is Jason.\n",
        "Agent: Hi, Jason, how are you doing today?\n",
        "Customer: Oh not so good. I found out that I'm not able to find any locations that are offering a rental car to throw in my One hundred dollars as bank balance I have ((Pennzoil)) I keep searching every single time What is it? But there's no results,\n",
        "Customer: So I think there's something wrong here, today I wanna know if it's possible I could use my Pennzoil savings code somewhere else enabled, in order to rent a car that I don't find the booking website really reliable at all.\n",
        "Customer: Not really helping to get any cars.\n",
        "Agent: Okay, I understand where you're coming from. Really sorry about all the conveniences being caused. We can go ahead and do is that I could try to run the search in my end to see if I could get something there for you. #Um if not, but unfortunately, you cannot use your ((bento)) points anywhere else other than the websites there.\n",
        "Customer: Okay, well, I'm pretty sure something's wrong with the website because I'm not it's not getting any results. But anyway, no matter where I search.\n",
        "Agent:I'm really sorry, allow me to go ahead and try to run the search on my end, okay, but I would need a phone number that's associated with the account. Can you provide that over to me please? Okay, it doesn't seem that an account is being pulled up by that number #ah do you think it's associated with an email address you can provide me with please?\n",
        "Customer:Yes.\n",
        "Agent:Okay, one moment. Okay, perfect I was able to look at your account thank you for being a member of Central travel rewards allow me one moment let me go ahead and try to run the search,\n",
        "Agent:can you further provide me the information for this car rental? Where will it be picked up and dropped off?\n",
        "Customer:The series Auto series Auto Center in Antioch. Find out what options are available I want to find a car that's a sports car that I can rent for around Ninety to One hundred and twenty-one dollars for one day.\n",
        "Agent: For one day, what will be the specific date Sir?\n",
        "Customer: Today.\n",
        "Customer: The earliest possible times today.\n",
        "Agent: In Antioch, correct?\n",
        "Customer: Correct.\n",
        "\"\"\""
      ],
      "metadata": {
        "id": "lVhy1BcVyHAi"
      },
      "execution_count": null,
      "outputs": []
    },
    {
      "cell_type": "code",
      "source": [
        "outputs = learn.blurr_generate(test_conversation,\n",
        "                               max_length=200,\n",
        "                               min_length=50,\n",
        "                               key=\"summary_texts\", num_return_sequences=1)[0][\"summary_texts\"]"
      ],
      "metadata": {
        "id": "6o43V8j5yB0J"
      },
      "execution_count": null,
      "outputs": []
    },
    {
      "cell_type": "code",
      "source": [
        "for output in wrap(outputs, 100):\n",
        "  print(output)"
      ],
      "metadata": {
        "colab": {
          "base_uri": "https://localhost:8080/"
        },
        "id": "-ROEDCcabtq0",
        "outputId": "53427cb2-f96f-48f1-dc1f-c336daa261bd"
      },
      "execution_count": null,
      "outputs": [
        {
          "output_type": "stream",
          "name": "stdout",
          "text": [
            " Jason wants to rent a car today. He wants to use his Pennzoil savings code to throw in his bank\n",
            "balance. He is a member of Central travel rewards. He will rent a sports car in Antioch today for\n",
            "around $90 to $100 for one day.\n"
          ]
        }
      ]
    },
    {
      "cell_type": "markdown",
      "source": [
        "#Export"
      ],
      "metadata": {
        "id": "rrNEdE0RhjvH"
      }
    },
    {
      "cell_type": "code",
      "source": [
        "learn.metrics = None\n",
        "export_fname=\"model\"\n",
        "learn.export(fname=f\"{export_fname}.pkl\")"
      ],
      "metadata": {
        "id": "awmhLe5TrDNk"
      },
      "execution_count": null,
      "outputs": []
    },
    {
      "cell_type": "code",
      "source": [
        "inf_learn = load_learner(fname=f\"{export_fname}.pkl\")"
      ],
      "metadata": {
        "id": "S2LR1V_TrnNx"
      },
      "execution_count": null,
      "outputs": []
    },
    {
      "cell_type": "code",
      "source": [
        "pkloutput = inf_learn.blurr_generate(test_conversation,\n",
        "                               max_length=200,\n",
        "                               min_length=50,\n",
        "                               key=\"summary_texts\", num_return_sequences=1)[0][\"summary_texts\"]"
      ],
      "metadata": {
        "id": "szb500K_ktDR"
      },
      "execution_count": null,
      "outputs": []
    },
    {
      "cell_type": "code",
      "source": [
        "for outpt in wrap(pkloutput,100):\n",
        "  print(outpt)"
      ],
      "metadata": {
        "colab": {
          "base_uri": "https://localhost:8080/"
        },
        "id": "PEtzmBbvh3ki",
        "outputId": "c0a20e16-c631-4aa1-d3ff-74735897252a"
      },
      "execution_count": null,
      "outputs": [
        {
          "output_type": "stream",
          "name": "stdout",
          "text": [
            " Jason wants to rent a car today. He wants to use his Pennzoil savings code to throw in his bank\n",
            "balance. He is a member of Central travel rewards. He will rent a sports car in Antioch today for\n",
            "around $90 to $100 for one day.\n"
          ]
        }
      ]
    },
    {
      "cell_type": "code",
      "source": [],
      "metadata": {
        "id": "MV3DLQ495gcf"
      },
      "execution_count": null,
      "outputs": []
    }
  ]
}